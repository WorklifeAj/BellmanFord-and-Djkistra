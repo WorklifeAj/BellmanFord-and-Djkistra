{
 "cells": [
  {
   "cell_type": "markdown",
   "metadata": {
    "id": "pDtQVOAJ0S9-"
   },
   "source": [
    "#TASK : Finding the shortest path to go to other buildings from Computer Science building"
   ]
  },
  {
   "cell_type": "markdown",
   "metadata": {
    "id": "qFu8OFrR0t7s"
   },
   "source": [
    "#Code"
   ]
  },
  {
   "cell_type": "code",
   "execution_count": 1,
   "metadata": {
    "id": "WLz0lc7y0syZ"
   },
   "outputs": [],
   "source": [
    "#initializing the graph class\n",
    "class Graph:\n",
    "  #basic initialziation further required\n",
    "  #we need :\n",
    "  # - Vertices\n",
    "  # - Graph initialize empty\n",
    "  # - Node  initialize empty\n",
    "  def __init__(self,vertices):\n",
    "    self.V=vertices\n",
    "    self.graph=[]\n",
    "    self.nodes=[]\n",
    "#FOR ADDING THE NODE WE CREATE A FUNCTION INSIDE THE CLASS OF GRAPH\n",
    "#THE NODE WILL BE INSERTED BY THE VALUE\n",
    "#LIKE IF YOU NEED TO MAKE A NODE FOR ComputerScience\n",
    "#JUST CALL LIKE THIS\n",
    "#InsertNode(ComputerScience)\n",
    "  def InsertNode(self,nOdEeE):\n",
    "    self.nodes.append(nOdEeE)\n",
    "#FOR ADDING THE EDGE WE CREATE A FUNCTION INSIDE THE CLASS OF GRAPH\n",
    "#THE EDGE WILL BE INSERTED BY THE VALUE\n",
    "#LIKE IF YOU NEED TO MAKE A EDGE FOR ComputerScience ---> ElectricalEng (With a distance of 2)\n",
    "#JUST CALL LIKE THIS\n",
    "#InsertEdge(ComputerScience,ElectricalEng,2)\n",
    "  def InsertEdge(self,startNode,EndNode,Distancee):\n",
    "    self.graph.append([startNode,EndNode,Distancee])\n",
    "\n",
    "  def vizPath(self,Distance):\n",
    "    for keyy,nOdEee in Distance.items():\n",
    "      print(''+keyy, \": \",nOdEee)\n",
    "#Implementing the algorithm\n",
    "  def BellmanFord(self, source):\n",
    "    #initializing the distance\n",
    "    Distance = {node: float(\"Inf\") for node in self.nodes}\n",
    "    #this will store the min distance from Source--->node\n",
    "    Distance[source] = 0\n",
    "    #outer loop\n",
    "    #the iteration goes like v-1(total vertixes-1)\n",
    "    #not include itself\n",
    "    iteration = 0\n",
    "    while iteration < self.V - 1:\n",
    "      #inner loop will iterate over the edges\n",
    "        edgeIterator = 0\n",
    "        while edgeIterator < len(self.graph):\n",
    "          #each edge in the graph to find shortest path\n",
    "            startNode, endNode, distancee = self.graph[edgeIterator]\n",
    "            #now each edge will be check\n",
    "            #if the distance btw endnode---start node is smaller than the current distance\n",
    "            if Distance[startNode] != float(\"Inf\") and Distance[startNode] + distancee < Distance[endNode]:\n",
    "                Distance[endNode] = Distance[startNode] + distancee\n",
    "                #after checking moves to next edge\n",
    "            edgeIterator += 1\n",
    "            #outer loop next iteration\n",
    "        iteration += 1\n",
    "#check if there is any negative cycle or not\n",
    "    edgeIterator = 0\n",
    "    while edgeIterator < len(self.graph):\n",
    "        startNode, endNode, distancee = self.graph[edgeIterator]\n",
    "        #if there will be any negative cycle means there is error in the algorithm :)\n",
    "        if Distance[startNode] != float(\"Inf\") and Distance[startNode] + distancee < Distance[endNode]:\n",
    "            print(\"error\")\n",
    "            return\n",
    "            #move to the next edge for the second loop\n",
    "        edgeIterator += 1\n",
    "    self.vizPath(Distance)\n"
   ]
  },
  {
   "cell_type": "markdown",
   "metadata": {
    "id": "oDDbE84GbXs_"
   },
   "source": [
    "#Graph"
   ]
  },
  {
   "cell_type": "code",
   "execution_count": 2,
   "metadata": {
    "id": "gd_drRlMbZJB"
   },
   "outputs": [],
   "source": [
    "g =Graph(19)"
   ]
  },
  {
   "cell_type": "markdown",
   "metadata": {
    "id": "Gh40ZJhebaec"
   },
   "source": [
    "#Nodes"
   ]
  },
  {
   "cell_type": "code",
   "execution_count": 3,
   "metadata": {
    "id": "6AYAFyVnbbr2"
   },
   "outputs": [],
   "source": [
    "g.InsertNode(\"College Square\")\n",
    "g.InsertNode(\"Lewis Science Center\")\n",
    "g.InsertNode(\"Computer Science\")\n",
    "g.InsertNode(\"Speech Language Hearing\")\n",
    "g.InsertNode(\"Burdick\")\n",
    "g.InsertNode(\"Prince Center\")\n",
    "g.InsertNode(\"Torreyson Library\")\n",
    "g.InsertNode(\"Maintenance College\")\n",
    "g.InsertNode(\"Old Main\")\n",
    "g.InsertNode(\"Police Dept.\")\n",
    "g.InsertNode(\"Fine Art\")\n",
    "g.InsertNode(\"McALister Hall\")\n",
    "g.InsertNode(\"Student Center\")\n",
    "g.InsertNode(\"Wingo\")\n",
    "g.InsertNode(\"Student Health Center\")\n",
    "g.InsertNode(\"New Business Building\")\n",
    "g.InsertNode(\"Oak Tree Apt\")\n",
    "g.InsertNode(\"Brewer-Hegeman\")\n",
    "g.InsertNode(\"Bear village Apt.\")"
   ]
  },
  {
   "cell_type": "markdown",
   "metadata": {
    "id": "vGEeus8tbdTk"
   },
   "source": [
    "#Edges"
   ]
  },
  {
   "cell_type": "code",
   "execution_count": 4,
   "metadata": {
    "id": "mbq7DJdfbXD6"
   },
   "outputs": [],
   "source": [
    "g.InsertEdge(\"College Square\",\"Lewis Science Center\",200)\n",
    "g.InsertEdge(\"College Square\",\"Prince Center\",300)\n",
    "g.InsertEdge(\"Lewis Science Center\",\"Speech Language Hearing\",250)\n",
    "g.InsertEdge(\"Lewis Science Center\",\"Computer Science\",150)\n",
    "g.InsertEdge(\"Speech Language Hearing\",\"Burdick\",100)\n",
    "g.InsertEdge(\"Speech Language Hearing\",\"Maintenance College\",120)\n",
    "g.InsertEdge(\"Prince Center\",\"Computer Science\",80)\n",
    "g.InsertEdge(\"Prince Center\",\"Torreyson Library\",30)\n",
    "g.InsertEdge(\"Prince Center\",\"Police Dept.\",100)\n",
    "g.InsertEdge(\"Computer Science\",\"Torreyson Library\",40)\n",
    "g.InsertEdge(\"Computer Science\",\"Burdick\",30)\n",
    "g.InsertEdge(\"Burdick\",\"Maintenance College\",300)\n",
    "g.InsertEdge(\"Burdick\",\"McALister Hall\",200)\n",
    "g.InsertEdge(\"Burdick\",\"Torreyson Library\",80)\n",
    "g.InsertEdge(\"Torreyson Library\",\"Old Main\",30)\n",
    "g.InsertEdge(\"Maintenance College\",\"McALister Hall\",150)\n",
    "g.InsertEdge(\"Maintenance College\",\"Wingo\",100)\n",
    "g.InsertEdge(\"Maintenance College\",\"New Business Building\",150)\n",
    "g.InsertEdge(\"Maintenance College\",\"Oak Tree Apt\",160)\n",
    "g.InsertEdge(\"Old Main\",\"Police Dept.\",200)\n",
    "g.InsertEdge(\"Old Main\",\"Fine Art\",90)\n",
    "g.InsertEdge(\"Old Main\",\"McALister Hall\",100)\n",
    "g.InsertEdge(\"Police Dept.\",\"Fine Art\",50)\n",
    "g.InsertEdge(\"Police Dept.\",\"Student Health Center\",100)\n",
    "g.InsertEdge(\"Fine Art\",\"Student Center\",180)\n",
    "g.InsertEdge(\"Fine Art\",\"McALister Hall\",80)\n",
    "g.InsertEdge(\"McALister Hall\",\"Wingo\",50)\n",
    "g.InsertEdge(\"McALister Hall\",\"Student Center\",100)\n",
    "g.InsertEdge(\"Wingo\",\"Student Center\",100)\n",
    "g.InsertEdge(\"Wingo\",\"New Business Building\",50)\n",
    "g.InsertEdge(\"Student Center\",\"New Business Building\",110)\n",
    "g.InsertEdge(\"Student Center\",\"Student Health Center\",50)\n",
    "g.InsertEdge(\"Student Health Center\",\"Brewer-Hegeman\",200)\n",
    "g.InsertEdge(\"New Business Building\",\"Brewer-Hegeman\",20)\n",
    "g.InsertEdge(\"New Business Building\",\"Oak Tree Apt\",30)\n",
    "g.InsertEdge(\"Oak Tree Apt\",\"Brewer-Hegeman\",40)\n",
    "g.InsertEdge(\"Brewer-Hegeman\",\"Bear village Apt.\",350)"
   ]
  },
  {
   "cell_type": "markdown",
   "metadata": {
    "id": "e58hexHObgRB"
   },
   "source": [
    "#Function"
   ]
  },
  {
   "cell_type": "code",
   "execution_count": 5,
   "metadata": {
    "colab": {
     "base_uri": "https://localhost:8080/"
    },
    "id": "4roIGwgubifk",
    "outputId": "8816e310-29f2-4050-f300-9e54cc5e0fc1"
   },
   "outputs": [
    {
     "name": "stdout",
     "output_type": "stream",
     "text": [
      "College Square :  0\n",
      "Lewis Science Center :  200\n",
      "Computer Science :  350\n",
      "Speech Language Hearing :  450\n",
      "Burdick :  380\n",
      "Prince Center :  300\n",
      "Torreyson Library :  330\n",
      "Maintenance College :  570\n",
      "Old Main :  360\n",
      "Police Dept. :  400\n",
      "Fine Art :  450\n",
      "McALister Hall :  460\n",
      "Student Center :  560\n",
      "Wingo :  510\n",
      "Student Health Center :  500\n",
      "New Business Building :  560\n",
      "Oak Tree Apt :  590\n",
      "Brewer-Hegeman :  580\n",
      "Bear village Apt. :  930\n"
     ]
    }
   ],
   "source": [
    "g.BellmanFord(\"College Square\")"
   ]
  },
  {
   "cell_type": "code",
   "execution_count": null,
   "metadata": {},
   "outputs": [],
   "source": []
  },
  {
   "cell_type": "code",
   "execution_count": null,
   "metadata": {},
   "outputs": [],
   "source": []
  }
 ],
 "metadata": {
  "colab": {
   "provenance": []
  },
  "kernelspec": {
   "display_name": "Python 3",
   "language": "python",
   "name": "python3"
  },
  "language_info": {
   "codemirror_mode": {
    "name": "ipython",
    "version": 3
   },
   "file_extension": ".py",
   "mimetype": "text/x-python",
   "name": "python",
   "nbconvert_exporter": "python",
   "pygments_lexer": "ipython3",
   "version": "3.8.8"
  }
 },
 "nbformat": 4,
 "nbformat_minor": 1
}
