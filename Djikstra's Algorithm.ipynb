{
 "cells": [
  {
   "cell_type": "markdown",
   "metadata": {
    "id": "0spzy_25S1Cd"
   },
   "source": [
    "#Libraries"
   ]
  },
  {
   "cell_type": "code",
   "execution_count": 1,
   "metadata": {
    "id": "7XLAZaAYRv8u"
   },
   "outputs": [],
   "source": [
    "from collections import defaultdict"
   ]
  },
  {
   "cell_type": "markdown",
   "metadata": {
    "id": "XVLS6UvOS7AB"
   },
   "source": [
    "#Code (GRAPH CLASS)"
   ]
  },
  {
   "cell_type": "code",
   "execution_count": 2,
   "metadata": {
    "id": "lSludaDmS81g"
   },
   "outputs": [],
   "source": [
    "#Graph Class\n",
    "class Graph:\n",
    "  #basic initialziation further required\n",
    "  #we need :\n",
    "  # - Graph initialize\n",
    "  # - Node  initialize\n",
    "  # - Distance initialize\n",
    "  def __init__(self):\n",
    "    self.Node=set()\n",
    "    self.Edge=defaultdict(list)\n",
    "    self.Dist={}\n",
    "#FOR ADDING THE NODE WE CREATE A FUNCTION INSIDE THE CLASS OF GRAPH\n",
    "#THE NODE WILL BE INSERTED BY THE VALUE\n",
    "#LIKE IF YOU NEED TO MAKE A NODE FOR ComputerScience\n",
    "#JUST CALL LIKE THIS\n",
    "#InsertNode(ComputerScience)\n",
    "  def InsertNode(self,nOdEeE):\n",
    "    self.Node.add(nOdEeE)\n",
    "#FOR ADDING THE EDGE WE CREATE A FUNCTION INSIDE THE CLASS OF GRAPH\n",
    "#THE EDGE WILL BE INSERTED BY THE VALUE\n",
    "#LIKE IF YOU NEED TO MAKE A EDGE FOR ComputerScience ---> ElectricalEng (With a distance of 2)\n",
    "#JUST CALL LIKE THIS\n",
    "#InsertEdge(ComputerScience,ElectricalEng,2)\n",
    "  def InsertEdge(self,startNode,EndNode,Dist):\n",
    "    #find the edge between nodes and the distance between them\n",
    "    #start taking distance from the strat node and till the end node\n",
    "    self.Edge[startNode].append(EndNode)\n",
    "    #the distance will be from the particular node to end node\n",
    "    self.Dist[(startNode,EndNode)]=Dist\n"
   ]
  },
  {
   "cell_type": "markdown",
   "metadata": {
    "id": "C279yqI4XA1p"
   },
   "source": [
    "#Code (IMPLEMENTING THE ALGORITHM)"
   ]
  },
  {
   "cell_type": "code",
   "execution_count": 3,
   "metadata": {
    "id": "hGor7Fh8W6T3"
   },
   "outputs": [],
   "source": [
    "#DIJKSTRA'S ALGORTHIM AS STATED ABOVE FOLLOWING THE ABOVE PSEUDO ALGO\n",
    "def DIJKSTRA(graph,start):\n",
    "  #making a dict for vertices that will be visited\n",
    "  #like we visit a vertix we dont need to come back\n",
    "  seeked={start:0}\n",
    "  #pathway\n",
    "  gateway=defaultdict(list)\n",
    "  #using nodes from the above graph class\n",
    "  Node=set(graph.Node)\n",
    "  while Node:\n",
    "    #at start just initialzing it by zero which will be altered in the loop\n",
    "    shortedNode=None\n",
    "    for latestNode in Node:\n",
    "      #start from seeking nodes\n",
    "      if latestNode in seeked:\n",
    "        #base condition\n",
    "        if shortedNode is None:\n",
    "          #then the shortest node will be node it self\n",
    "          shortedNode=latestNode\n",
    "          #else check if whoes greater\n",
    "        elif seeked[latestNode] < seeked[shortedNode]:\n",
    "          #setting current as minimum\n",
    "          shortedNode=latestNode\n",
    "#above we tried to find if still there is no min node found then break it\n",
    "    if shortedNode is None:\n",
    "      break\n",
    "#CUURENT NODE\n",
    "    print(f\"Current Node: {shortedNode}\")\n",
    "    #VISITED NODE\n",
    "    print(f\"Visited Nodes: {seeked}\")\n",
    "    #remove this\n",
    "    Node.remove(shortedNode)\n",
    "    #transfer the latest weight now\n",
    "    latestweight=seeked[shortedNode]\n",
    "\n",
    "    #calculating the weight now\n",
    "    for Edge in graph.Edge[shortedNode]:\n",
    "      weight=latestweight+graph.Dist[(shortedNode,Edge)]\n",
    "      if Edge not in seeked or weight < seeked[Edge]:\n",
    "        seeked[Edge]=weight\n",
    "        gateway[Edge].append(shortedNode)\n",
    "\n",
    "    print(\"Final Results:\")\n",
    "    print(f\"Visited Nodes: {seeked}\")\n",
    "    print(f\"Gateway: {gateway}\")\n",
    "    return seeked,gateway\n"
   ]
  },
  {
   "cell_type": "code",
   "execution_count": 4,
   "metadata": {
    "colab": {
     "base_uri": "https://localhost:8080/"
    },
    "id": "byGReSFdbEVk",
    "outputId": "646c3791-3bb8-413e-83b8-1c9babb5f981"
   },
   "outputs": [
    {
     "name": "stdout",
     "output_type": "stream",
     "text": [
      "Current Node: College Square\n",
      "Visited Nodes: {'College Square': 0}\n",
      "Final Results:\n",
      "Visited Nodes: {'College Square': 0, 'Lewis Science Center': 200, 'Prince Center': 300}\n",
      "Gateway: defaultdict(<class 'list'>, {'Lewis Science Center': ['College Square'], 'Prince Center': ['College Square']})\n",
      "({'College Square': 0, 'Lewis Science Center': 200, 'Prince Center': 300}, defaultdict(<class 'list'>, {'Lewis Science Center': ['College Square'], 'Prince Center': ['College Square']}))\n"
     ]
    }
   ],
   "source": [
    "g=Graph()\n",
    "g.InsertNode(\"College Square\")\n",
    "g.InsertNode(\"Lewis Science Center\")\n",
    "g.InsertNode(\"Computer Science\")\n",
    "g.InsertNode(\"Speech Language Hearing\")\n",
    "g.InsertNode(\"Burdick\")\n",
    "g.InsertNode(\"Prince Center\")\n",
    "g.InsertNode(\"Torreyson Library\")\n",
    "g.InsertNode(\"Maintenance College\")\n",
    "g.InsertNode(\"Old Main\")\n",
    "g.InsertNode(\"Police Dept.\")\n",
    "g.InsertNode(\"Fine Art\")\n",
    "g.InsertNode(\"McALister Hall\")\n",
    "g.InsertNode(\"Student Center\")\n",
    "g.InsertNode(\"Wingo\")\n",
    "g.InsertNode(\"Student Health Center\")\n",
    "g.InsertNode(\"New Business Building\")\n",
    "g.InsertNode(\"Oak Tree Apt\")\n",
    "g.InsertNode(\"Brewer-Hegeman\")\n",
    "g.InsertNode(\"Bear village Apt.\")\n",
    "g.InsertEdge(\"College Square\",\"Lewis Science Center\",200)\n",
    "g.InsertEdge(\"College Square\",\"Prince Center\",300)\n",
    "g.InsertEdge(\"Lewis Science Center\",\"Speech Language Hearing\",250)\n",
    "g.InsertEdge(\"Lewis Science Center\",\"Computer Science\",150)\n",
    "g.InsertEdge(\"Speech Language Hearing\",\"Burdick\",100)\n",
    "g.InsertEdge(\"Speech Language Hearing\",\"Maintenance College\",120)\n",
    "g.InsertEdge(\"Prince Center\",\"Computer Science\",80)\n",
    "g.InsertEdge(\"Prince Center\",\"Torreyson Library\",30)\n",
    "g.InsertEdge(\"Prince Center\",\"Police Dept.\",100)\n",
    "g.InsertEdge(\"Computer Science\",\"Torreyson Library\",40)\n",
    "g.InsertEdge(\"Computer Science\",\"Burdick\",30)\n",
    "g.InsertEdge(\"Burdick\",\"Maintenance College\",300)\n",
    "g.InsertEdge(\"Burdick\",\"McALister Hall\",200)\n",
    "g.InsertEdge(\"Burdick\",\"Torreyson Library\",80)\n",
    "g.InsertEdge(\"Torreyson Library\",\"Old Main\",30)\n",
    "g.InsertEdge(\"Maintenance College\",\"McALister Hall\",150)\n",
    "g.InsertEdge(\"Maintenance College\",\"Wingo\",100)\n",
    "g.InsertEdge(\"Maintenance College\",\"New Business Building\",150)\n",
    "g.InsertEdge(\"Maintenance College\",\"Oak Tree Apt\",160)\n",
    "g.InsertEdge(\"Old Main\",\"Police Dept.\",200)\n",
    "g.InsertEdge(\"Old Main\",\"Fine Art\",90)\n",
    "g.InsertEdge(\"Old Main\",\"McALister Hall\",100)\n",
    "g.InsertEdge(\"Police Dept.\",\"Fine Art\",50)\n",
    "g.InsertEdge(\"Police Dept.\",\"Student Health Center\",100)\n",
    "g.InsertEdge(\"Fine Art\",\"Student Center\",180)\n",
    "g.InsertEdge(\"Fine Art\",\"McALister Hall\",80)\n",
    "g.InsertEdge(\"McALister Hall\",\"Wingo\",50)\n",
    "g.InsertEdge(\"McALister Hall\",\"Student Center\",100)\n",
    "g.InsertEdge(\"Wingo\",\"Student Center\",100)\n",
    "g.InsertEdge(\"Wingo\",\"New Business Building\",50)\n",
    "g.InsertEdge(\"Student Center\",\"New Business Building\",110)\n",
    "g.InsertEdge(\"Student Center\",\"Student Health Center\",50)\n",
    "g.InsertEdge(\"Student Health Center\",\"Brewer-Hegeman\",200)\n",
    "g.InsertEdge(\"New Business Building\",\"Brewer-Hegeman\",20)\n",
    "g.InsertEdge(\"New Business Building\",\"Oak Tree Apt\",30)\n",
    "g.InsertEdge(\"Oak Tree Apt\",\"Brewer-Hegeman\",40)\n",
    "g.InsertEdge(\"Brewer-Hegeman\",\"Bear village Apt.\",350)\n",
    "print(DIJKSTRA(g, \"College Square\"))"
   ]
  },
  {
   "cell_type": "code",
   "execution_count": null,
   "metadata": {
    "id": "gF-UnSpAebqM"
   },
   "outputs": [],
   "source": []
  }
 ],
 "metadata": {
  "colab": {
   "provenance": []
  },
  "kernelspec": {
   "display_name": "Python 3",
   "language": "python",
   "name": "python3"
  },
  "language_info": {
   "codemirror_mode": {
    "name": "ipython",
    "version": 3
   },
   "file_extension": ".py",
   "mimetype": "text/x-python",
   "name": "python",
   "nbconvert_exporter": "python",
   "pygments_lexer": "ipython3",
   "version": "3.8.8"
  }
 },
 "nbformat": 4,
 "nbformat_minor": 1
}
